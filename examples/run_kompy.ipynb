{
 "cells": [
  {
   "cell_type": "markdown",
   "id": "ca0739a8f111e84a",
   "metadata": {
    "collapsed": false
   },
   "source": [
    "# How to use Kompy\n",
    "# --------------\n",
    "\n",
    "to install Kompy, you can use pip:\n",
    "\n",
    "```bash\n",
    "pip install kompy\n",
    "```"
   ]
  },
  {
   "cell_type": "markdown",
   "id": "920c093e42a3f043",
   "metadata": {
    "collapsed": false
   },
   "source": [
    "You need to import the library:\n",
    "\n",
    "```python\n",
    "import kompy as kp\n",
    "```"
   ]
  },
  {
   "cell_type": "code",
   "execution_count": null,
   "id": "4f42de74570e7e2d",
   "metadata": {
    "collapsed": false
   },
   "outputs": [],
   "source": [
    "import os\n",
    "from dotenv import load_dotenv, find_dotenv\n",
    "\n",
    "load_dotenv(find_dotenv())"
   ]
  },
  {
   "cell_type": "markdown",
   "id": "49667602ab2c1084",
   "metadata": {
    "collapsed": false
   },
   "source": [
    "## Set up the KomootConnector"
   ]
  },
  {
   "cell_type": "markdown",
   "id": "24a20a6b6e52beb8",
   "metadata": {
    "collapsed": false
   },
   "source": [
    "The first component is the KomootConnector, this class can be used to download or upload tour(s) and get informations\n",
    " about the users.\n",
    " \n",
    "Unfortunately, Komoot doesn't provide an oauth2 authentication method for those that are not partners, as a \n",
    "consequence, I could implement only a simple http authentication method. "
   ]
  },
  {
   "cell_type": "code",
   "execution_count": null,
   "id": "79d9c1000d2f4c6",
   "metadata": {
    "collapsed": false
   },
   "outputs": [],
   "source": [
    "from kompy import KomootConnector"
   ]
  },
  {
   "cell_type": "code",
   "execution_count": null,
   "id": "b5c3610986a3ed51",
   "metadata": {
    "collapsed": false
   },
   "outputs": [],
   "source": [
    "connector = KomootConnector(\n",
    "    password=os.environ['KOMOOT_PSW'],\n",
    "    email=os.environ['KOMOOT_email'],\n",
    ")"
   ]
  },
  {
   "cell_type": "markdown",
   "id": "caa72269dfa88dcc",
   "metadata": {
    "collapsed": false
   },
   "source": [
    "We can then easily verify that, given that you set the correct env variables or you passed the correct credentials, \n",
    "we correctly logged in"
   ]
  },
  {
   "cell_type": "code",
   "execution_count": null,
   "id": "6e077ceb9196d610",
   "metadata": {
    "collapsed": false
   },
   "outputs": [],
   "source": [
    "print(f'Authentication:\\n{connector.authentication}')"
   ]
  },
  {
   "cell_type": "markdown",
   "id": "6d4c8857fb98c674",
   "metadata": {
    "collapsed": false
   },
   "source": [
    "## Get the user's tours\n",
    "\n",
    "We can now get the user's tours, we can do it in two ways:\n",
    "- get the tours of the current user\n",
    "- get the tours of another user\n",
    "\n",
    "For both those usecases we'll use the `get_tours` method. This method accepts many parameters, but the most important\n",
    " is the `user_identifier`. This parameter is the identifier of the user that we want to get the tours from. If we want\n",
    "  to get the tours of the current user, we can simply pass `None` as the `user_identifier` parameter.\n"
   ]
  },
  {
   "cell_type": "code",
   "execution_count": null,
   "id": "7f111badf07120db",
   "metadata": {
    "collapsed": false
   },
   "outputs": [],
   "source": [
    "tours_list = connector.get_tours(user_identifier=None)"
   ]
  },
  {
   "cell_type": "markdown",
   "id": "2c4b18c1edcdd8d0",
   "metadata": {
    "collapsed": false
   },
   "source": [
    "Depending on how many tours you have, this method can take a while to complete, so be patient.\n",
    "\n",
    "The returned object is a list of `Tour` objects, each of those objects contains all the information about the tour."
   ]
  },
  {
   "cell_type": "code",
   "execution_count": null,
   "id": "ad8c2fac986c0ad2",
   "metadata": {
    "collapsed": false
   },
   "outputs": [],
   "source": [
    "print(f'Tour object: {tours_list[0]}')"
   ]
  },
  {
   "cell_type": "markdown",
   "id": "780ac155dc2f2854",
   "metadata": {
    "collapsed": false
   },
   "source": [
    "Not all the fields of the `Tour` object are populated, this is because the Komoot API doesn't return all the fields, \n",
    "for example, to fetch all the coordinates of the tour, we need to call the `get_tour_coordinates` method."
   ]
  },
  {
   "cell_type": "code",
   "execution_count": null,
   "id": "a090e047bbc09676",
   "metadata": {
    "collapsed": false
   },
   "outputs": [],
   "source": [
    "t1 = tours_list[0]\n",
    "print(f'Coordinates not yet fetched: {t1.coordinates is []}')\n",
    "t1.get_coordinates(connector.authentication)\n",
    "print(f'Coordinates fetched: {t1.coordinates is not []}')"
   ]
  },
  {
   "cell_type": "markdown",
   "id": "a61b78190df61210",
   "metadata": {
    "collapsed": false
   },
   "source": [
    "The `Coordinate` object is a simple object that contains the latitude and longitude of the point, the altitude and \n",
    "the timestamp."
   ]
  },
  {
   "cell_type": "code",
   "execution_count": null,
   "id": "eb8517a4c1c25d26",
   "metadata": {
    "collapsed": false
   },
   "outputs": [],
   "source": [
    "print(f'Latitude of the first coordinate point: {t1.coordinates[0].lat}')"
   ]
  },
  {
   "cell_type": "markdown",
   "id": "67c0165617ac248f",
   "metadata": {
    "collapsed": false
   },
   "source": [
    "## Get a single tour\n",
    "\n",
    "For some reasons, you might want to fetch a single tour object, be it in the kompy format or in GPX/FIT format. you \n",
    "can do so by using the `get_tour` method."
   ]
  },
  {
   "cell_type": "code",
   "execution_count": null,
   "id": "d60e4981938c04d2",
   "metadata": {
    "collapsed": false
   },
   "outputs": [],
   "source": [
    "tour = connector.get_tour_by_id(tour_identifier=t1.id)"
   ]
  },
  {
   "cell_type": "markdown",
   "id": "6bf12c2760a84414",
   "metadata": {
    "collapsed": false
   },
   "source": [
    "The returned object is the same as the ones fetched by the get_tours method. You can also get the tour in GPX or FIT"
   ]
  },
  {
   "cell_type": "code",
   "execution_count": null,
   "id": "e199ef221da44ba3",
   "metadata": {
    "collapsed": false
   },
   "outputs": [],
   "source": [
    "gpx_tour = connector.get_tour_by_id(tour_identifier=t1.id, object_type='gpx')\n",
    "print(f'Format of tour: {type(gpx_tour)}')"
   ]
  },
  {
   "cell_type": "markdown",
   "source": [
    "## Upload a tour\n",
    "\n",
    "It is also possible to upload a tour, in gpx or fit format. To do so, you can use the `upload_tour` method."
   ],
   "metadata": {
    "collapsed": false
   },
   "id": "fa47ff5c55dd4a1a"
  },
  {
   "cell_type": "code",
   "execution_count": null,
   "id": "736505bea8df9e4c",
   "metadata": {
    "collapsed": false
   },
   "outputs": [],
   "source": [
    "success_bool = connector.upload_tour(\n",
    "    tour_object=gpx_tour,\n",
    "    activity_type='hiking',\n",
    "    tour_name='test',\n",
    "    time_in_motion=42,\n",
    ")"
   ]
  },
  {
   "cell_type": "code",
   "execution_count": null,
   "outputs": [],
   "source": [
    "print(f'Upload success: {success_bool}')"
   ],
   "metadata": {
    "collapsed": false
   },
   "id": "5cd9dba1df485777"
  }
 ],
 "metadata": {
  "kernelspec": {
   "display_name": "Python 3 (ipykernel)",
   "language": "python",
   "name": "python3"
  },
  "language_info": {
   "codemirror_mode": {
    "name": "ipython",
    "version": 3
   },
   "file_extension": ".py",
   "mimetype": "text/x-python",
   "name": "python",
   "nbconvert_exporter": "python",
   "pygments_lexer": "ipython3",
   "version": "3.11.5"
  }
 },
 "nbformat": 4,
 "nbformat_minor": 5
}
