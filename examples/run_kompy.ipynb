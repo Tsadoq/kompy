{
 "cells": [
  {
   "cell_type": "markdown",
   "source": [
    "# How to use Kompy\n",
    "# --------------\n",
    "\n",
    "to install Kompy, you can use pip:\n",
    "\n",
    "```bash\n",
    "pip install kompy\n",
    "```"
   ],
   "metadata": {
    "collapsed": false
   },
   "id": "ca0739a8f111e84a"
  },
  {
   "cell_type": "markdown",
   "source": [
    "You need to import the library:\n",
    "\n",
    "```python\n",
    "import kompy as kp\n",
    "```"
   ],
   "metadata": {
    "collapsed": false
   },
   "id": "920c093e42a3f043"
  },
  {
   "cell_type": "code",
   "execution_count": null,
   "outputs": [],
   "source": [
    "import os\n",
    "from dotenv import load_dotenv, find_dotenv\n",
    "\n",
    "load_dotenv(find_dotenv())"
   ],
   "metadata": {
    "collapsed": false
   },
   "id": "4f42de74570e7e2d"
  },
  {
   "cell_type": "markdown",
   "source": [
    "## Set up the KomootConnector"
   ],
   "metadata": {
    "collapsed": false
   },
   "id": "49667602ab2c1084"
  },
  {
   "cell_type": "markdown",
   "source": [
    "The first component is the KomootConnector, this class can be used to download or upload tour(s) and get informations\n",
    " about the users.\n",
    " \n",
    "Unfortunately, Komoot doesn't provide an oauth2 authentication method for those that are not partners, as a \n",
    "consequence, I could implement only a simple http authentication method. "
   ],
   "metadata": {
    "collapsed": false
   },
   "id": "24a20a6b6e52beb8"
  },
  {
   "cell_type": "code",
   "execution_count": null,
   "outputs": [],
   "source": [
    "from kompy import KomootConnector"
   ],
   "metadata": {
    "collapsed": false
   },
   "id": "79d9c1000d2f4c6"
  },
  {
   "cell_type": "code",
   "execution_count": null,
   "outputs": [],
   "source": [
    "connector = KomootConnector(\n",
    "    password=os.environ['KOMOOT_PSW'],\n",
    "    email=os.environ['KOMOOT_email'],\n",
    ")"
   ],
   "metadata": {
    "collapsed": false
   },
   "id": "b5c3610986a3ed51"
  },
  {
   "cell_type": "markdown",
   "source": [
    "We can then easily verify that, given that you set the correct env variables or you passed the correct credentials, \n",
    "we correctly logged in"
   ],
   "metadata": {
    "collapsed": false
   },
   "id": "caa72269dfa88dcc"
  },
  {
   "cell_type": "code",
   "execution_count": null,
   "outputs": [],
   "source": [
    "print(f'Authentication:\\n{connector.authentication}')"
   ],
   "metadata": {
    "collapsed": false
   },
   "id": "6e077ceb9196d610"
  },
  {
   "cell_type": "markdown",
   "source": [
    "## Get the user's tours\n",
    "\n",
    "We can now get the user's tours, we can do it in two ways:\n",
    "- get the tours of the current user\n",
    "- get the tours of another user\n",
    "\n",
    "For both those usecases we'll use the `get_tours` method. This method accepts many parameters, but the most important\n",
    " is the `user_identifier`. This parameter is the identifier of the user that we want to get the tours from. If we want\n",
    "  to get the tours of the current user, we can simply pass `None` as the `user_identifier` parameter.\n"
   ],
   "metadata": {
    "collapsed": false
   },
   "id": "6d4c8857fb98c674"
  },
  {
   "cell_type": "code",
   "execution_count": null,
   "outputs": [],
   "source": [
    "tours_list = connector.get_tours(user_identifier=None)"
   ],
   "metadata": {
    "collapsed": false
   },
   "id": "7f111badf07120db"
  },
  {
   "cell_type": "markdown",
   "source": [
    "Depending on how many tours you have, this method can take a while to complete, so be patient.\n",
    "\n",
    "The returned object is a list of `Tour` objects, each of those objects contains all the information about the tour."
   ],
   "metadata": {
    "collapsed": false
   },
   "id": "2c4b18c1edcdd8d0"
  },
  {
   "cell_type": "code",
   "execution_count": null,
   "outputs": [],
   "source": [
    "print(f'Tour object: {tours_list[0]}')"
   ],
   "metadata": {
    "collapsed": false
   },
   "id": "ad8c2fac986c0ad2"
  },
  {
   "cell_type": "markdown",
   "source": [
    "Not all the fields of the `Tour` object are populated, this is because the Komoot API doesn't return all the fields, \n",
    "for example, to fetch all the coordinates of the tour, we need to call the `get_tour_coordinates` method."
   ],
   "metadata": {
    "collapsed": false
   },
   "id": "780ac155dc2f2854"
  },
  {
   "cell_type": "code",
   "execution_count": null,
   "outputs": [],
   "source": [
    "t1 = tours_list[0]\n",
    "print(f'Coordinates not yet fetched: {t1.coordinates is []}')\n",
    "t1.get_coordinates(connector.authentication)\n",
    "print(f'Coordinates fetched: {t1.coordinates is not []}')"
   ],
   "metadata": {
    "collapsed": false
   },
   "id": "a090e047bbc09676"
  },
  {
   "cell_type": "markdown",
   "source": [
    "The `Coordinate` object is a simple object that contains the latitude and longitude of the point, the altitude and \n",
    "the timestamp."
   ],
   "metadata": {
    "collapsed": false
   },
   "id": "a61b78190df61210"
  },
  {
   "cell_type": "code",
   "execution_count": null,
   "outputs": [],
   "source": [
    "print(f'Latitude of the first coordinate point: {t1.coordinates[0].lat}')"
   ],
   "metadata": {
    "collapsed": false
   },
   "id": "eb8517a4c1c25d26"
  },
  {
   "cell_type": "markdown",
   "source": [
    "## Get a single tour\n",
    "\n",
    "For some reasons, you might want to fetch a single tour object, be it in the kompy format or in GPX/FIT format. you \n",
    "can do so by using the `get_tour` method."
   ],
   "metadata": {
    "collapsed": false
   },
   "id": "67c0165617ac248f"
  },
  {
   "cell_type": "code",
   "execution_count": null,
   "outputs": [],
   "source": [
    "tour = connector.get_tour_by_id(tour_identifier=t1.id)"
   ],
   "metadata": {
    "collapsed": false
   },
   "id": "d60e4981938c04d2"
  },
  {
   "cell_type": "markdown",
   "source": [
    "The returned object is the same as the ones fetched by the get_tours method. You can also get the tour in GPX or FIT"
   ],
   "metadata": {
    "collapsed": false
   },
   "id": "6bf12c2760a84414"
  },
  {
   "cell_type": "code",
   "execution_count": null,
   "outputs": [],
   "source": [
    "gpx_tour = connector.get_tour_by_id(tour_identifier=t1.id, object_type='gpx')\n",
    "print(f'Format of tour: {type(gpx_tour)}')"
   ],
   "metadata": {
    "collapsed": false
   },
   "id": "e199ef221da44ba3"
  },
  {
   "cell_type": "code",
   "execution_count": null,
   "outputs": [],
   "source": [],
   "metadata": {
    "collapsed": false
   },
   "id": "736505bea8df9e4c"
  }
 ],
 "metadata": {
  "kernelspec": {
   "display_name": "Python 3",
   "language": "python",
   "name": "python3"
  },
  "language_info": {
   "codemirror_mode": {
    "name": "ipython",
    "version": 2
   },
   "file_extension": ".py",
   "mimetype": "text/x-python",
   "name": "python",
   "nbconvert_exporter": "python",
   "pygments_lexer": "ipython2",
   "version": "2.7.6"
  }
 },
 "nbformat": 4,
 "nbformat_minor": 5
}
