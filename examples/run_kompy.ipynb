{
 "cells": [
  {
   "cell_type": "markdown",
   "source": [
    "# How to use Kompy\n",
    "# --------------\n",
    "\n",
    "to install Kompy, you can use pip:\n",
    "\n",
    "```bash\n",
    "pip install kompy\n",
    "```"
   ],
   "metadata": {
    "collapsed": false
   },
   "id": "ca0739a8f111e84a"
  },
  {
   "cell_type": "markdown",
   "source": [
    "You need to import the library:\n",
    "\n",
    "```python\n",
    "import kompy as kp\n",
    "```"
   ],
   "metadata": {
    "collapsed": false
   },
   "id": "920c093e42a3f043"
  },
  {
   "cell_type": "code",
   "execution_count": 1,
   "outputs": [
    {
     "data": {
      "text/plain": "True"
     },
     "execution_count": 1,
     "metadata": {},
     "output_type": "execute_result"
    }
   ],
   "source": [
    "import os\n",
    "from dotenv import load_dotenv, find_dotenv\n",
    "\n",
    "load_dotenv(find_dotenv())"
   ],
   "metadata": {
    "collapsed": false,
    "ExecuteTime": {
     "end_time": "2023-11-12T08:29:04.321544Z",
     "start_time": "2023-11-12T08:29:04.304107Z"
    }
   },
   "id": "4f42de74570e7e2d"
  },
  {
   "cell_type": "markdown",
   "source": [
    "## Set up the KomootConnector"
   ],
   "metadata": {
    "collapsed": false
   },
   "id": "49667602ab2c1084"
  },
  {
   "cell_type": "markdown",
   "source": [
    "The first component is the KomootConnector, this class can be used to download or upload tour(s) and get informations\n",
    " about the users.\n",
    " \n",
    "Unfortunately, Komoot doesn't provide an oauth2 authentication method for those that are not partners, as a \n",
    "consequence, I could implement only a simple http authentication method. "
   ],
   "metadata": {
    "collapsed": false
   },
   "id": "24a20a6b6e52beb8"
  },
  {
   "cell_type": "code",
   "execution_count": 2,
   "outputs": [],
   "source": [
    "from kompy import KomootConnector"
   ],
   "metadata": {
    "collapsed": false,
    "ExecuteTime": {
     "end_time": "2023-11-12T08:29:04.385372Z",
     "start_time": "2023-11-12T08:29:04.311480Z"
    }
   },
   "id": "79d9c1000d2f4c6"
  },
  {
   "cell_type": "code",
   "execution_count": 3,
   "outputs": [],
   "source": [
    "connector = KomootConnector(\n",
    "    password=os.environ['KOMOOT_PSW'],\n",
    "    email=os.environ['KOMOOT_email'],\n",
    ")"
   ],
   "metadata": {
    "collapsed": false,
    "ExecuteTime": {
     "end_time": "2023-11-12T08:29:04.697014Z",
     "start_time": "2023-11-12T08:29:04.372982Z"
    }
   },
   "id": "b5c3610986a3ed51"
  },
  {
   "cell_type": "markdown",
   "source": [
    "We can then easily verify that, given that you set the correct env variables or you passed the correct credentials, \n",
    "we correctly logged in"
   ],
   "metadata": {
    "collapsed": false
   },
   "id": "caa72269dfa88dcc"
  },
  {
   "cell_type": "code",
   "execution_count": 4,
   "outputs": [
    {
     "name": "stdout",
     "output_type": "stream",
     "text": [
      "Authentication:\n",
      "\n",
      "        Authentication object:\n",
      "        Email address: kom...l.net\n",
      "        Password: ****************\n",
      "        Token: ****************************************************************\n",
      "        Username: 24...2\n",
      "        \n"
     ]
    }
   ],
   "source": [
    "print(f'Authentication:\\n{connector.authentication}')"
   ],
   "metadata": {
    "collapsed": false,
    "ExecuteTime": {
     "end_time": "2023-11-12T08:29:04.702383Z",
     "start_time": "2023-11-12T08:29:04.698522Z"
    }
   },
   "id": "6e077ceb9196d610"
  },
  {
   "cell_type": "markdown",
   "source": [
    "## Get the user's tours\n",
    "\n",
    "We can now get the user's tours, we can do it in two ways:\n",
    "- get the tours of the current user\n",
    "- get the tours of another user\n",
    "\n",
    "For both those usecases we'll use the `get_tours` method. This method accepts many parameters, but the most important\n",
    " is the `user_identifier`. This parameter is the identifier of the user that we want to get the tours from. If we want\n",
    "  to get the tours of the current user, we can simply pass `None` as the `user_identifier` parameter.\n"
   ],
   "metadata": {
    "collapsed": false
   },
   "id": "6d4c8857fb98c674"
  },
  {
   "cell_type": "code",
   "execution_count": 5,
   "outputs": [
    {
     "name": "stderr",
     "output_type": "stream",
     "text": [
      "2023-11-12 09:29:04,700 - KomootConnector - WARNING - No user identifier provided, using the currently logged user: 2453610435162\n",
      "2023-11-12 09:29:04,700 No user identifier provided, using the currently logged user: 2453610435162\n",
      "2023-11-12 09:29:04,700 - KomootConnector - WARNING - No sort field provided, using default sort field: date\n",
      "2023-11-12 09:29:04,700 No sort field provided, using default sort field: date\n",
      "2023-11-12 09:29:08,172 No vector map image found.\n",
      "2023-11-12 09:29:08,172 No vector map image found.\n",
      "2023-11-12 09:29:08,173 No vector map image found.\n",
      "2023-11-12 09:29:08,173 No vector map image found.\n",
      "2023-11-12 09:29:08,173 No vector map image found.\n",
      "2023-11-12 09:29:08,174 No vector map image found.\n",
      "2023-11-12 09:29:08,174 No vector map image found.\n",
      "2023-11-12 09:29:08,174 No vector map image found.\n",
      "2023-11-12 09:29:08,175 No vector map image found.\n",
      "2023-11-12 09:29:08,175 No vector map image found.\n",
      "2023-11-12 09:29:08,175 No vector map image found.\n",
      "2023-11-12 09:29:08,176 No vector map image found.\n",
      "2023-11-12 09:29:08,176 No vector map image found.\n",
      "2023-11-12 09:29:08,176 No vector map image found.\n",
      "2023-11-12 09:29:08,177 No vector map image found.\n",
      "2023-11-12 09:29:08,177 No vector map image found.\n",
      "2023-11-12 09:29:08,178 No vector map image found.\n",
      "2023-11-12 09:29:08,178 No vector map image found.\n",
      "2023-11-12 09:29:08,178 No vector map image found.\n",
      "2023-11-12 09:29:08,179 No vector map image found.\n",
      "2023-11-12 09:29:08,179 No vector map image found.\n",
      "2023-11-12 09:29:08,179 No vector map image found.\n",
      "2023-11-12 09:29:08,180 No vector map image found.\n",
      "2023-11-12 09:29:08,180 No vector map image found.\n",
      "2023-11-12 09:29:08,181 No vector map image found.\n",
      "2023-11-12 09:29:08,181 No vector map image found.\n",
      "2023-11-12 09:29:08,181 No vector map image found.\n",
      "2023-11-12 09:29:08,182 No vector map image found.\n",
      "2023-11-12 09:29:08,182 No vector map image found.\n",
      "2023-11-12 09:29:08,182 No vector map image found.\n",
      "2023-11-12 09:29:08,183 No vector map image found.\n",
      "2023-11-12 09:29:08,183 No vector map image found.\n",
      "2023-11-12 09:29:08,183 No vector map image found.\n",
      "2023-11-12 09:29:08,184 No vector map image found.\n",
      "2023-11-12 09:29:08,184 No vector map image found.\n",
      "2023-11-12 09:29:08,184 No vector map image found.\n",
      "2023-11-12 09:29:08,184 No vector map image found.\n",
      "2023-11-12 09:29:08,185 No vector map image found.\n",
      "2023-11-12 09:29:08,185 No vector map image found.\n",
      "2023-11-12 09:29:08,186 No vector map image found.\n",
      "2023-11-12 09:29:08,186 No vector map image found.\n",
      "2023-11-12 09:29:08,186 No vector map image found.\n",
      "2023-11-12 09:29:08,187 No vector map image found.\n",
      "2023-11-12 09:29:08,187 No vector map image found.\n",
      "2023-11-12 09:29:08,187 No vector map image found.\n",
      "2023-11-12 09:29:08,187 No vector map image found.\n",
      "2023-11-12 09:29:08,188 No vector map image found.\n",
      "2023-11-12 09:29:08,188 No vector map image found.\n",
      "2023-11-12 09:29:08,189 No vector map image found.\n",
      "2023-11-12 09:29:08,189 No vector map image found.\n",
      "2023-11-12 09:29:08,189 No vector map image found.\n",
      "2023-11-12 09:29:08,190 No vector map image found.\n",
      "2023-11-12 09:29:08,190 No vector map image found.\n",
      "2023-11-12 09:29:08,190 No vector map image found.\n",
      "2023-11-12 09:29:08,191 No vector map image found.\n",
      "2023-11-12 09:29:08,191 No vector map image found.\n",
      "2023-11-12 09:29:08,192 No vector map image found.\n",
      "2023-11-12 09:29:08,192 No vector map image found.\n",
      "2023-11-12 09:29:08,192 No vector map image found.\n",
      "2023-11-12 09:29:08,193 No vector map image found.\n",
      "2023-11-12 09:29:08,193 No vector map image found.\n",
      "2023-11-12 09:29:08,194 No vector map image found.\n",
      "2023-11-12 09:29:08,194 No vector map image found.\n",
      "2023-11-12 09:29:08,194 No vector map image found.\n",
      "2023-11-12 09:29:08,195 No vector map image found.\n",
      "2023-11-12 09:29:08,195 No vector map image found.\n",
      "2023-11-12 09:29:08,195 No vector map image found.\n",
      "2023-11-12 09:29:08,196 No vector map image found.\n",
      "2023-11-12 09:29:08,196 No vector map image found.\n",
      "2023-11-12 09:29:08,196 No vector map image found.\n",
      "2023-11-12 09:29:08,197 No vector map image found.\n",
      "2023-11-12 09:29:08,197 No vector map image found.\n",
      "2023-11-12 09:29:08,197 No vector map image found.\n",
      "2023-11-12 09:29:08,198 No vector map image found.\n",
      "2023-11-12 09:29:08,198 No vector map image found.\n",
      "2023-11-12 09:29:08,199 No vector map image found.\n",
      "2023-11-12 09:29:08,199 No vector map image found.\n",
      "2023-11-12 09:29:08,199 No vector map image found.\n",
      "2023-11-12 09:29:08,200 No vector map image found.\n",
      "2023-11-12 09:29:08,200 No vector map image found.\n",
      "2023-11-12 09:29:08,200 No vector map image found.\n",
      "2023-11-12 09:29:08,201 No vector map image found.\n",
      "2023-11-12 09:29:08,201 No vector map image found.\n",
      "2023-11-12 09:29:08,201 No vector map image found.\n",
      "2023-11-12 09:29:08,202 No vector map image found.\n",
      "2023-11-12 09:29:08,202 No vector map image found.\n",
      "2023-11-12 09:29:08,202 No vector map image found.\n",
      "2023-11-12 09:29:08,203 No vector map image found.\n",
      "2023-11-12 09:29:08,203 No vector map image found.\n",
      "2023-11-12 09:29:08,203 No vector map image found.\n",
      "2023-11-12 09:29:08,204 No vector map image found.\n"
     ]
    }
   ],
   "source": [
    "tours_list = connector.get_tours(user_identifier=None)"
   ],
   "metadata": {
    "collapsed": false,
    "ExecuteTime": {
     "end_time": "2023-11-12T08:29:08.217069Z",
     "start_time": "2023-11-12T08:29:04.701205Z"
    }
   },
   "id": "7f111badf07120db"
  },
  {
   "cell_type": "markdown",
   "source": [
    "Depending on how many tours you have, this method can take a while to complete, so be patient.\n",
    "\n",
    "The returned object is a list of `Tour` objects, each of those objects contains all the information about the tour."
   ],
   "metadata": {
    "collapsed": false
   },
   "id": "2c4b18c1edcdd8d0"
  },
  {
   "cell_type": "code",
   "execution_count": 6,
   "outputs": [
    {
     "name": "stdout",
     "output_type": "stream",
     "text": [
      "Tour object: <kompy.tour.Tour object at 0x10790ecd0>\n"
     ]
    }
   ],
   "source": [
    "print(f'Tour object: {tours_list[0]}')"
   ],
   "metadata": {
    "collapsed": false,
    "ExecuteTime": {
     "end_time": "2023-11-12T08:29:08.232157Z",
     "start_time": "2023-11-12T08:29:08.212861Z"
    }
   },
   "id": "ad8c2fac986c0ad2"
  },
  {
   "cell_type": "markdown",
   "source": [
    "Not all the fields of the `Tour` object are populated, this is because the Komoot API doesn't return all the fields, \n",
    "for example, to fetch all the coordinates of the tour, we need to call the `get_tour_coordinates` method."
   ],
   "metadata": {
    "collapsed": false
   },
   "id": "780ac155dc2f2854"
  },
  {
   "cell_type": "code",
   "execution_count": 7,
   "outputs": [
    {
     "name": "stdout",
     "output_type": "stream",
     "text": [
      "Coordinates not yet fetched: False\n"
     ]
    },
    {
     "ename": "AttributeError",
     "evalue": "'KomootConnector' object has no attribute 'get_email_address'",
     "output_type": "error",
     "traceback": [
      "\u001B[0;31m---------------------------------------------------------------------------\u001B[0m",
      "\u001B[0;31mAttributeError\u001B[0m                            Traceback (most recent call last)",
      "Cell \u001B[0;32mIn[7], line 3\u001B[0m\n\u001B[1;32m      1\u001B[0m t1 \u001B[38;5;241m=\u001B[39m tours_list[\u001B[38;5;241m0\u001B[39m]\n\u001B[1;32m      2\u001B[0m \u001B[38;5;28mprint\u001B[39m(\u001B[38;5;124mf\u001B[39m\u001B[38;5;124m'\u001B[39m\u001B[38;5;124mCoordinates not yet fetched: \u001B[39m\u001B[38;5;132;01m{\u001B[39;00mt1\u001B[38;5;241m.\u001B[39mcoordinates\u001B[38;5;250m \u001B[39m\u001B[38;5;129;01mis\u001B[39;00m\u001B[38;5;250m \u001B[39m[]\u001B[38;5;132;01m}\u001B[39;00m\u001B[38;5;124m'\u001B[39m)\n\u001B[0;32m----> 3\u001B[0m \u001B[43mt1\u001B[49m\u001B[38;5;241;43m.\u001B[39;49m\u001B[43mget_coordinates\u001B[49m\u001B[43m(\u001B[49m\u001B[43mconnector\u001B[49m\u001B[43m)\u001B[49m\n\u001B[1;32m      4\u001B[0m \u001B[38;5;28mprint\u001B[39m(\u001B[38;5;124mf\u001B[39m\u001B[38;5;124m'\u001B[39m\u001B[38;5;124mCoordinates fetched: \u001B[39m\u001B[38;5;132;01m{\u001B[39;00mt1\u001B[38;5;241m.\u001B[39mcoordinates\u001B[38;5;250m \u001B[39m\u001B[38;5;129;01mis\u001B[39;00m\u001B[38;5;250m \u001B[39m\u001B[38;5;129;01mnot\u001B[39;00m\u001B[38;5;250m \u001B[39m[]\u001B[38;5;132;01m}\u001B[39;00m\u001B[38;5;124m'\u001B[39m)\n",
      "File \u001B[0;32m~/PycharmProjects/kompy/kompy/tour.py:251\u001B[0m, in \u001B[0;36mTour.get_coordinates\u001B[0;34m(self, authentication)\u001B[0m\n\u001B[1;32m    243\u001B[0m \u001B[38;5;250m\u001B[39m\u001B[38;5;124;03m\"\"\"\u001B[39;00m\n\u001B[1;32m    244\u001B[0m \u001B[38;5;124;03mFetch the coordinates of the tour.\u001B[39;00m\n\u001B[1;32m    245\u001B[0m \u001B[38;5;124;03m:param authentication: The authentication object.\u001B[39;00m\n\u001B[1;32m    246\u001B[0m \u001B[38;5;124;03m:return: True if the coordinates were fetched successfully, False otherwise\u001B[39;00m\n\u001B[1;32m    247\u001B[0m \u001B[38;5;124;03m\"\"\"\u001B[39;00m\n\u001B[1;32m    248\u001B[0m \u001B[38;5;28;01mif\u001B[39;00m \u001B[38;5;28mself\u001B[39m\u001B[38;5;241m.\u001B[39mcoordinates_link \u001B[38;5;129;01mis\u001B[39;00m \u001B[38;5;129;01mnot\u001B[39;00m \u001B[38;5;28;01mNone\u001B[39;00m:\n\u001B[1;32m    249\u001B[0m     coord_request \u001B[38;5;241m=\u001B[39m requests\u001B[38;5;241m.\u001B[39mget(\n\u001B[1;32m    250\u001B[0m         url\u001B[38;5;241m=\u001B[39m\u001B[38;5;28mself\u001B[39m\u001B[38;5;241m.\u001B[39mcoordinates_link,\n\u001B[0;32m--> 251\u001B[0m         auth\u001B[38;5;241m=\u001B[39m(\u001B[43mauthentication\u001B[49m\u001B[38;5;241;43m.\u001B[39;49m\u001B[43mget_email_address\u001B[49m(), authentication\u001B[38;5;241m.\u001B[39mget_password()),\n\u001B[1;32m    252\u001B[0m     )\u001B[38;5;241m.\u001B[39mjson()[\u001B[38;5;124m'\u001B[39m\u001B[38;5;124mitems\u001B[39m\u001B[38;5;124m'\u001B[39m]\n\u001B[1;32m    253\u001B[0m \u001B[38;5;28;01melse\u001B[39;00m:\n\u001B[1;32m    254\u001B[0m     logging\u001B[38;5;241m.\u001B[39mwarning(\u001B[38;5;124m'\u001B[39m\u001B[38;5;124mNo coordinates link found.\u001B[39m\u001B[38;5;124m'\u001B[39m)\n",
      "\u001B[0;31mAttributeError\u001B[0m: 'KomootConnector' object has no attribute 'get_email_address'"
     ]
    }
   ],
   "source": [
    "t1 = tours_list[0]\n",
    "print(f'Coordinates not yet fetched: {t1.coordinates is []}')\n",
    "t1.get_coordinates(connector)\n",
    "print(f'Coordinates fetched: {t1.coordinates is not []}')"
   ],
   "metadata": {
    "collapsed": false,
    "ExecuteTime": {
     "end_time": "2023-11-12T08:29:08.346261Z",
     "start_time": "2023-11-12T08:29:08.214046Z"
    }
   },
   "id": "a090e047bbc09676"
  },
  {
   "cell_type": "markdown",
   "source": [
    "The `Coordinate` object is a simple object that contains the latitude and longitude of the point, the altitude and \n",
    "the timestamp."
   ],
   "metadata": {
    "collapsed": false
   },
   "id": "a61b78190df61210"
  },
  {
   "cell_type": "code",
   "execution_count": null,
   "outputs": [],
   "source": [
    "t1.coordinates"
   ],
   "metadata": {
    "collapsed": false,
    "ExecuteTime": {
     "end_time": "2023-11-12T08:29:08.350351Z",
     "start_time": "2023-11-12T08:29:08.348030Z"
    }
   },
   "id": "eb8517a4c1c25d26"
  },
  {
   "cell_type": "code",
   "execution_count": null,
   "outputs": [],
   "source": [],
   "metadata": {
    "collapsed": false
   },
   "id": "d60e4981938c04d2"
  }
 ],
 "metadata": {
  "kernelspec": {
   "display_name": "Python 3",
   "language": "python",
   "name": "python3"
  },
  "language_info": {
   "codemirror_mode": {
    "name": "ipython",
    "version": 2
   },
   "file_extension": ".py",
   "mimetype": "text/x-python",
   "name": "python",
   "nbconvert_exporter": "python",
   "pygments_lexer": "ipython2",
   "version": "2.7.6"
  }
 },
 "nbformat": 4,
 "nbformat_minor": 5
}
